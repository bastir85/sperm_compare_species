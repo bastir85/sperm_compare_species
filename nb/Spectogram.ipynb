{
 "cells": [
  {
   "cell_type": "code",
   "execution_count": null,
   "metadata": {},
   "outputs": [],
   "source": [
    "%matplotlib inline\n",
    "import matplotlib.pylab as plt\n",
    "import numpy as np\n",
    "import pandas as pd\n",
    "from scipy import stats\n",
    "import os\n",
    "\n",
    "FIG_DIR = os.path.join(\"..\", \"figure\")\n",
    "\n",
    "def plot_spectrum(spectrums, ax, label=None, full=False):\n",
    "    spectrums = spectrums.replace([np.inf, -np.inf], np.nan)\n",
    "    spectrums = spectrums.dropna()\n",
    "    y, bin_edge, nbins = stats.binned_statistic( spectrums.omega, spectrums.power, bins=100)\n",
    "    x = (bin_edge[1:] + bin_edge[:-1])/2\n",
    "\n",
    "    ax.plot(x, y,'o-', label=label)\n",
    "    if not full:\n",
    "        return\n",
    "    for exp, df in spectrums.groupby(\"exp\"):\n",
    "        ax.plot(df.omega, df.power)"
   ]
  },
  {
   "cell_type": "code",
   "execution_count": null,
   "metadata": {},
   "outputs": [],
   "source": [
    "with pd.HDFStore(os.path.join(\"..\", \"c2_kappa_mean_rotation.h5\")) as store:\n",
    "    res_humans = store.get(\"humans\")\n",
    "    res_seas = store.get(\"sea_urchins\")"
   ]
  },
  {
   "cell_type": "code",
   "execution_count": null,
   "metadata": {},
   "outputs": [],
   "source": [
    "spec_human = np.loadtxt(os.path.join(\"..\", \"human_spectrum.csv\"))\n",
    "spec_sea = np.loadtxt(os.path.join(\"..\", \"sea_urchin_spectrum.csv\"))"
   ]
  },
  {
   "cell_type": "code",
   "execution_count": null,
   "metadata": {},
   "outputs": [],
   "source": [
    "WIDTH = 8.1"
   ]
  },
  {
   "cell_type": "code",
   "execution_count": null,
   "metadata": {},
   "outputs": [],
   "source": [
    "fig = plt.figure(figsize=(WIDTH/3.,1.6), dpi=200)\n",
    "plt.plot(spec_human.T[0], spec_human.T[1], '-',label=\"human\")\n",
    "plt.plot(spec_sea.T[0], spec_sea.T[1], '-',label=\"sea urchin\")\n",
    "plt.legend(fontsize=8)\n",
    "plt.xlim(0,3.5)\n",
    "plt.ylim(0,0.2)\n",
    "plt.xlabel(r\"$\\omega/\\omega_0$\")\n",
    "plt.ylabel(\"Amplitude [$\\\\mu m^{-1}$]\")\n",
    "plt.savefig(FIG_DIR + \"spectrum.pdf\")"
   ]
  },
  {
   "cell_type": "code",
   "execution_count": null,
   "metadata": {},
   "outputs": [],
   "source": [
    "plt.errorbar(spec_human.T[0], spec_human.T[1], spec_human.T[2],label=\"human\")\n"
   ]
  },
  {
   "cell_type": "code",
   "execution_count": null,
   "metadata": {},
   "outputs": [],
   "source": [
    "res_humans2  = res_humans.dropna()\n",
    "slope, intercept, r_value, p_value, std_err = stats.linregress(res_humans2.c2_plus_cm, \n",
    "                                                               res_humans2.phi_vel_normed_s_c0)"
   ]
  },
  {
   "cell_type": "code",
   "execution_count": null,
   "metadata": {},
   "outputs": [],
   "source": [
    "fig = plt.figure(figsize=(WIDTH/3.,1.6),dpi=200)\n",
    "\n",
    "for exp, df in res_humans.dropna().groupby(\"exp\"):\n",
    "    y, bin_edge, nbins = stats.binned_statistic(df.c2_plus_cm, df.phi_vel_normed_s_c0, bins=100)\n",
    "    x = (bin_edge[1:]+bin_edge[:-1])/2\n",
    "    plt.scatter(x,y, s=2,label=exp.split(\"/\")[-1])\n",
    "s = np.linspace(-0.008,0.01,50)\n",
    "plt.plot(s, s*slope+ intercept, c='k')\n",
    "#plt.legend(ncol=2, fontsize=8, loc=3, \n",
    "#           bbox_to_anchor=(0,1.02,1.,.102), borderaxespad=0.)\n",
    "plt.xlabel(r\"$A_2C_2 \\sin \\phi_{eff} + A_0 \\bar{C}\\ [\\mu m^{-1}]$\")\n",
    "plt.ylabel(r\"$\\Omega/(\\omega C_1^2)$\")\n",
    "plt.savefig(os.path.join(FIG_DIR, \"rotation_humans.pdf\"))"
   ]
  },
  {
   "cell_type": "code",
   "execution_count": null,
   "metadata": {},
   "outputs": [],
   "source": []
  },
  {
   "cell_type": "code",
   "execution_count": null,
   "metadata": {},
   "outputs": [],
   "source": [
    "res_seas2  = res_seas.dropna()\n",
    "slope, intercept, r_value, p_value, std_err = stats.linregress(res_seas2.c2_plus_cm, \n",
    "                                                               res_seas2.phi_vel_normed_s_c0)"
   ]
  },
  {
   "cell_type": "code",
   "execution_count": null,
   "metadata": {},
   "outputs": [],
   "source": [
    "fig = plt.figure(figsize=(WIDTH/3.,1.6),dpi=200)\n",
    "\n",
    "for exp, df in res_seas.dropna().groupby(\"exp\"):\n",
    "    y, bin_edge, nbins = stats.binned_statistic(df.c2_plus_cm, df.phi_vel_normed_s_c0, bins=500)\n",
    "    x = (bin_edge[1:]+bin_edge[:-1])/2\n",
    "    plt.scatter(x,y, s=2,label=exp.split(\"/\")[-1])\n",
    "s = np.linspace(-0.005,0.02,50)\n",
    "plt.plot(s, s*slope+ intercept, c='k')\n",
    "#plt.legend(ncol=2, fontsize=8, loc=3, \n",
    "#           bbox_to_anchor=(0,1.02,1.,.102), borderaxespad=0.)\n",
    "plt.xlabel(r\"$A_2C_2 \\sin \\phi_{eff} + A_0 \\bar{C}\\ [\\mu m^{-1}]$\")\n",
    "plt.ylabel(r\"$\\Omega/(\\omega C_1^2)$\")\n",
    "plt.savefig(os.path.join(FIG_DIR, \"rotation_sea_urchin.pdf\"))"
   ]
  },
  {
   "cell_type": "code",
   "execution_count": null,
   "metadata": {},
   "outputs": [],
   "source": [
    "fig = plt.figure(figsize=(WIDTH/3.,1.6), dpi=200)\n",
    "slope, intercept, r_value, p_value, std_err = stats.linregress(res_seas2.C2_SIN, \n",
    "                                                               res_seas2.phi_vel_normed_s_c0)\n",
    "for exp, df in res_seas.dropna().groupby(\"exp\"):\n",
    "    y, bin_edge, nbins = stats.binned_statistic(df.C2_SIN, df.phi_vel_normed_s_c0, bins=100)\n",
    "    x = (bin_edge[1:]+bin_edge[:-1])/2\n",
    "    plt.scatter(x,y, s=2,label=exp.split(\"/\")[-1])\n",
    "s = np.linspace(-0.005,0.03,50)\n",
    "plt.plot(s, s*slope+ intercept, c='k')\n",
    "#plt.legend(ncol=2, fontsize=8, loc=3, \n",
    "#           bbox_to_anchor=(0,1.02,1.,.102), borderaxespad=0.)\n",
    "plt.xlabel(r\"$C_2 \\sin \\phi_{eff}\\ [\\mu m^{-1}]$\")\n",
    "plt.ylabel(r\"$\\Omega/(\\omega C_1^2)$\")\n",
    "plt.savefig(os.path.join(FIG_DIR, \"rotation_C2_sea_urchin.pdf\"))"
   ]
  },
  {
   "cell_type": "code",
   "execution_count": null,
   "metadata": {},
   "outputs": [],
   "source": [
    "fig = plt.figure(figsize=(WIDTH/3.,1.6), dpi=200)\n",
    "slope, intercept, r_value, p_value, std_err = stats.linregress(res_humans2.C2_SIN, \n",
    "                                                               res_humans2.phi_vel_normed_s_c0)\n",
    "for exp, df in res_humans2.dropna().groupby(\"exp\"):\n",
    "    y, bin_edge, nbins = stats.binned_statistic(df.C2_SIN, df.phi_vel_normed_s_c0, bins=500)\n",
    "    x = (bin_edge[1:]+bin_edge[:-1])/2\n",
    "    plt.scatter(x,y, s=2,label=exp.split(\"/\")[-1])\n",
    "s = np.linspace(-0.05,0.05,50)\n",
    "plt.plot(s, s*slope+ intercept, c='k')\n",
    "#plt.legend(ncol=2, fontsize=8, loc=3, \n",
    "#           bbox_to_anchor=(0,1.02,1.,.102), borderaxespad=0.)\n",
    "plt.xlabel(r\"$C_2 \\sin \\phi_{eff}\\ [\\mu m^{-1}]$\")\n",
    "plt.ylabel(r\"$\\Omega/(\\omega C_1^2)$\")\n",
    "plt.savefig(os.path.join(FIG_DIR, \"rotation_C2_human.pdf\"))"
   ]
  },
  {
   "cell_type": "code",
   "execution_count": null,
   "metadata": {},
   "outputs": [],
   "source": []
  },
  {
   "cell_type": "code",
   "execution_count": null,
   "metadata": {},
   "outputs": [],
   "source": []
  },
  {
   "cell_type": "code",
   "execution_count": null,
   "metadata": {},
   "outputs": [],
   "source": [
    "exp,df = list(res_humans2.groupby(\"exp\"))[3]\n",
    "df.set_index(\"time\", inplace=True)\n",
    "\n",
    "fig = plt.figure(figsize=(WIDTH/2., 2.6), dpi=200)\n",
    "ax = plt.subplot(111)\n",
    "df.C2_SIN.plot(label=r\"$C_2 \\sin\\phi_{eff}\\ [\\mu m^{-1}]$\")\n",
    "df.phi_vel_normed_s.plot(label=r\"$\\Omega/\\omega$\")\n",
    "df.kappa_mean_s.plot(label=r\"$\\bar{C}\\ [\\mu m^{-1}]$\")\n",
    "plt.legend(fontsize=8)\n",
    "plt.xlim(2.5,15.)\n",
    "plt.ylim(-0.025,0.08)\n",
    "t = np.linspace(2.,18,5)\n",
    "ax.set_xticks(t)\n",
    "ax.set_xticklabels(t-t[0])\n",
    "exps = exp.split(\"/\")[-1]\n",
    "plt.savefig(os.path.join(FIG_DIR, f\"example_human_{exps}.pdf\"))"
   ]
  },
  {
   "cell_type": "code",
   "execution_count": null,
   "metadata": {},
   "outputs": [],
   "source": []
  },
  {
   "cell_type": "code",
   "execution_count": null,
   "metadata": {},
   "outputs": [],
   "source": [
    "exp,df = list(res_seas2.groupby(\"exp\"))[1]\n",
    "df.set_index(\"time\", inplace=True)\n",
    "fig = plt.figure(figsize=(WIDTH/2., 2.6), dpi=200)\n",
    "\n",
    "ax = plt.subplot(111)\n",
    "df.C2_SIN.plot(label=r\"$C_2 \\sin\\phi_{eff}\\ [\\mu m^{-1}]$\")\n",
    "df.phi_vel_normed_s.plot(label=r\"$\\Omega/\\omega$\")\n",
    "df.kappa_mean_s.plot(label=r\"$\\bar{C}\\ [\\mu m^{-1}]$\")\n",
    "plt.legend(fontsize=8)\n",
    "plt.ylim(-0.025,0.08)\n",
    "exps = exp.split(\"/\")[-1]\n",
    "plt.savefig(os.path.join(FIG_DIR,f\"example_sea_urchin_{exps}.pdf\"))"
   ]
  },
  {
   "cell_type": "code",
   "execution_count": null,
   "metadata": {},
   "outputs": [],
   "source": []
  },
  {
   "cell_type": "code",
   "execution_count": null,
   "metadata": {},
   "outputs": [],
   "source": [
    "## Minimal Data Export"
   ]
  },
  {
   "cell_type": "code",
   "execution_count": null,
   "metadata": {},
   "outputs": [],
   "source": [
    "res_seas2.index.name = \"index\"\n",
    "res_seas2.to_csv(os.path.join(\"..\", \"sea_urchins.csv\"),\n",
    "                 columns=[\"C2_SIN\", \"kappa_mean_s\",\n",
    "                          \"c2_plus_cm\", \"phi_vel_normed_s\", \"phi_vel_normed_s_c0\", \"exp\"],\n",
    "                 sep=\"\\t\")"
   ]
  },
  {
   "cell_type": "code",
   "execution_count": null,
   "metadata": {},
   "outputs": [],
   "source": [
    "res_humans2.index.name = \"index\"\n",
    "res_humans2.to_csv(os.path.join(\"..\", \"humans.csv\"),\n",
    "                   columns=[\"C2_SIN\", \"kappa_mean_s\",\n",
    "                   \"c2_plus_cm\", \"phi_vel_normed_s\", \"phi_vel_normed_s_c0\", \"exp\"],\n",
    "                   sep=\"\\t\")"
   ]
  }
 ],
 "metadata": {
  "@webio": {
   "lastCommId": null,
   "lastKernelId": null
  },
  "kernelspec": {
   "display_name": "py36",
   "language": "python",
   "name": "py36"
  },
  "language_info": {
   "codemirror_mode": {
    "name": "ipython",
    "version": 3
   },
   "file_extension": ".py",
   "mimetype": "text/x-python",
   "name": "python",
   "nbconvert_exporter": "python",
   "pygments_lexer": "ipython3",
   "version": "3.6.7"
  }
 },
 "nbformat": 4,
 "nbformat_minor": 2
}
