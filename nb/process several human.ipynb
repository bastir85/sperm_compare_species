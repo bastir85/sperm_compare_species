{
 "cells": [
  {
   "cell_type": "code",
   "execution_count": null,
   "metadata": {},
   "outputs": [],
   "source": [
    "from glob import glob\n",
    "import numpy as np\n",
    "import pandas as pd\n",
    "from scipy import stats\n",
    "import os\n",
    "\n",
    "from analysis_scripts import second_harm_tools\n",
    "from analysis_scripts.analyzs_many import get_human"
   ]
  },
  {
   "cell_type": "code",
   "execution_count": null,
   "metadata": {},
   "outputs": [],
   "source": [
    "human_skeleton = glob(os.path.join(\"..\", \"data\", \"human_skeleton\", \"*\"))"
   ]
  },
  {
   "cell_type": "code",
   "execution_count": null,
   "metadata": {},
   "outputs": [],
   "source": [
    "human_skeleton"
   ]
  },
  {
   "cell_type": "code",
   "execution_count": null,
   "metadata": {
    "scrolled": false
   },
   "outputs": [],
   "source": [
    "defaults =  {\"t_range\": slice(None, None)}\n",
    "params = {\"Skeletonexpnt006Cell2Small\":{\n",
    "             \"t_range\": slice(None,5500)},\n",
    "          \n",
    "        \"Skeletonexpnt006Cell1\":{\n",
    "             \"t_range\": slice(None,8800)\n",
    "            } \n",
    "         }\n",
    "\n",
    "\n",
    "results = []\n",
    "spectrums = []\n",
    "for exp in human_skeleton:\n",
    "    param = params.get(exp.split(\"/\")[-1], defaults)\n",
    "    \n",
    "    if param.get(\"skip\"):\n",
    "        continue\n",
    "    a = get_human(exp, rel_s=0.9, **param)\n",
    "    if a.last_valid_index() < 0.1:\n",
    "        continue\n",
    "    res_human, spectrum = second_harm_tools.analyse_shape(a, NFFT=250, pca=False, smoothing=139)\n",
    "    res_human.index.name = \"time\"\n",
    "    res_human.reset_index(inplace=True)\n",
    "    res_human[\"exp\"] = exp\n",
    "    results.append(res_human)\n",
    "    spectrums.append(spectrum)\n",
    "\n",
    "res_humans = pd.concat(results)\n"
   ]
  },
  {
   "cell_type": "code",
   "execution_count": null,
   "metadata": {},
   "outputs": [],
   "source": [
    "len(human_skeleton)"
   ]
  },
  {
   "cell_type": "code",
   "execution_count": null,
   "metadata": {
    "scrolled": false
   },
   "outputs": [],
   "source": [
    "5./res_humans.dropna().omega.mean()*500"
   ]
  },
  {
   "cell_type": "code",
   "execution_count": null,
   "metadata": {},
   "outputs": [],
   "source": [
    "res_humans[\"phi_vel_normed_s_c0\"] = res_humans.phi_vel_normed_s/(res_humans.C0**2)\n",
    "res_humans[\"c2_plus_cm\"] = (9/16/np.pi)*res_humans.C2_SIN + (np.pi**2-3)/4/np.pi**2*res_humans.kappa_mean_s"
   ]
  },
  {
   "cell_type": "code",
   "execution_count": null,
   "metadata": {},
   "outputs": [],
   "source": [
    "res = []\n",
    "for spectrum in spectrums:\n",
    "    res.append((spectrum[::500,:,0].flatten(), np.sqrt(spectrum[::500,:,1].flatten())))\n",
    "xx = np.hstack(list(zip(*res))[0])\n",
    "yy = np.hstack(list(zip(*res))[1])\n",
    "    "
   ]
  },
  {
   "cell_type": "code",
   "execution_count": null,
   "metadata": {},
   "outputs": [],
   "source": [
    "power, bin_edge, nbins = stats.binned_statistic(xx, yy,\n",
    "                                                bins=np.arange(0.05,5.,0.1), statistic=\"mean\")\n",
    "power_std, bin_edge, nbins = stats.binned_statistic(xx, yy,\n",
    "                                                bins=np.arange(0.05,5.,0.1), statistic=\"std\")\n",
    "\n",
    "freq = (bin_edge[1:]+bin_edge[:-1])/2\n"
   ]
  },
  {
   "cell_type": "code",
   "execution_count": null,
   "metadata": {},
   "outputs": [],
   "source": [
    "res_humans.to_hdf(os.path.join(\"..\", \"c2_kappa_mean_rotation.h5\"), 'humans')\n",
    "np.savetxt(os.path.join(\"..\", \"human_spectrum.csv\"),  np.vstack([freq, power, power_std]).T)"
   ]
  },
  {
   "cell_type": "code",
   "execution_count": null,
   "metadata": {},
   "outputs": [],
   "source": []
  }
 ],
 "metadata": {
  "@webio": {
   "lastCommId": null,
   "lastKernelId": null
  },
  "kernelspec": {
   "display_name": "py36",
   "language": "python",
   "name": "py36"
  },
  "language_info": {
   "codemirror_mode": {
    "name": "ipython",
    "version": 3
   },
   "file_extension": ".py",
   "mimetype": "text/x-python",
   "name": "python",
   "nbconvert_exporter": "python",
   "pygments_lexer": "ipython3",
   "version": "3.6.7"
  }
 },
 "nbformat": 4,
 "nbformat_minor": 2
}
