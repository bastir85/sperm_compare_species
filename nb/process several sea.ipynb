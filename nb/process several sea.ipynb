{
 "cells": [
  {
   "cell_type": "code",
   "execution_count": 1,
   "metadata": {},
   "outputs": [
    {
     "name": "stderr",
     "output_type": "stream",
     "text": [
      "/Local/rode/.conda/envs/py36/lib/python3.6/importlib/_bootstrap.py:219: RuntimeWarning: numpy.dtype size changed, may indicate binary incompatibility. Expected 96, got 88\n",
      "  return f(*args, **kwds)\n",
      "/Local/rode/.conda/envs/py36/lib/python3.6/importlib/_bootstrap.py:219: RuntimeWarning: numpy.dtype size changed, may indicate binary incompatibility. Expected 96, got 88\n",
      "  return f(*args, **kwds)\n",
      "/Local/rode/.conda/envs/py36/lib/python3.6/importlib/_bootstrap.py:219: RuntimeWarning: numpy.dtype size changed, may indicate binary incompatibility. Expected 96, got 88\n",
      "  return f(*args, **kwds)\n"
     ]
    }
   ],
   "source": [
    "from glob import glob\n",
    "import numpy as np\n",
    "import pandas as pd\n",
    "from scipy import stats\n",
    "\n",
    "from analysis_scripts import second_harm_tools\n",
    "from analysis_scripts.analyzs_many import get_sea_urchin"
   ]
  },
  {
   "cell_type": "code",
   "execution_count": 2,
   "metadata": {},
   "outputs": [],
   "source": [
    "sea_urchins = glob(\"../data/sea_urchin_darkfield/*.h5\")\n"
   ]
  },
  {
   "cell_type": "code",
   "execution_count": 3,
   "metadata": {},
   "outputs": [
    {
     "data": {
      "text/plain": [
       "4"
      ]
     },
     "execution_count": 3,
     "metadata": {},
     "output_type": "execute_result"
    }
   ],
   "source": [
    "len(sea_urchins)"
   ]
  },
  {
   "cell_type": "code",
   "execution_count": 4,
   "metadata": {
    "scrolled": false
   },
   "outputs": [
    {
     "name": "stdout",
     "output_type": "stream",
     "text": [
      "4\n"
     ]
    },
    {
     "name": "stderr",
     "output_type": "stream",
     "text": [
      "/Data/iff_th2/rode/sperm/experiments/compare_species/nb/analysis_scripts/second_harm_tools.py:73: RuntimeWarning: divide by zero encountered in double_scalars\n",
      "  taub = 1/fr_m\n",
      "/Data/iff_th2/rode/sperm/experiments/compare_species/nb/analysis_scripts/second_harm_tools.py:125: RuntimeWarning: divide by zero encountered in true_divide\n",
      "  mode='full')/c0f,\n"
     ]
    },
    {
     "name": "stdout",
     "output_type": "stream",
     "text": [
      "6\n",
      "4\n",
      "5\n"
     ]
    }
   ],
   "source": [
    "defaults =  {\"t_range\": slice(None, None)}\n",
    "params = {}\n",
    "\n",
    "\n",
    "results = []\n",
    "spectrums = []\n",
    "for exp in sea_urchins:\n",
    "    param = params.get(exp, defaults)\n",
    "    if param.get(\"skip\"):\n",
    "        continue\n",
    "    a = get_sea_urchin(exp, rel_s=0.9, **param)\n",
    "    if a.last_valid_index() < 0.1:\n",
    "        continue\n",
    "    res_sea, spectrum = second_harm_tools.analyse_shape(a, NFFT=125, pca=True, smoothing=58)\n",
    "    res_sea.index.name = \"time\"\n",
    "    res_sea.reset_index(inplace=True)\n",
    "    res_sea[\"exp\"] = exp\n",
    "    results.append(res_sea)\n",
    "    spectrums.append(spectrum)\n",
    "    \n",
    "    \n",
    "res_seas = pd.concat(results)\n"
   ]
  },
  {
   "cell_type": "code",
   "execution_count": 5,
   "metadata": {},
   "outputs": [
    {
     "data": {
      "text/plain": [
       "57.99345377531046"
      ]
     },
     "execution_count": 5,
     "metadata": {},
     "output_type": "execute_result"
    }
   ],
   "source": [
    "5*1./res_seas.dropna().omega.mean()*500"
   ]
  },
  {
   "cell_type": "code",
   "execution_count": 6,
   "metadata": {},
   "outputs": [],
   "source": [
    "res_seas[\"phi_vel_normed_s_c0\"] = res_seas.phi_vel_normed_s/(res_seas.C0**2)\n",
    "res_seas[\"c2_plus_cm\"] = 0.04*res_seas.C2_SIN + 0.36*res_seas.kappa_mean_s"
   ]
  },
  {
   "cell_type": "code",
   "execution_count": 7,
   "metadata": {},
   "outputs": [],
   "source": [
    "res = []\n",
    "for spectrum in spectrums:\n",
    "    res.append((spectrum[::100,:,0].flatten(), np.sqrt(spectrum[::100,:,1].flatten())))\n",
    "xx = np.hstack(list(zip(*res))[0])\n",
    "yy = np.hstack(list(zip(*res))[1])\n",
    "    "
   ]
  },
  {
   "cell_type": "code",
   "execution_count": 8,
   "metadata": {},
   "outputs": [
    {
     "name": "stderr",
     "output_type": "stream",
     "text": [
      "/Local/rode/.conda/envs/py36/lib/python3.6/site-packages/scipy/stats/_binned_statistic.py:607: FutureWarning: Using a non-tuple sequence for multidimensional indexing is deprecated; use `arr[tuple(seq)]` instead of `arr[seq]`. In the future this will be interpreted as an array index, `arr[np.array(seq)]`, which will result either in an error or a different result.\n",
      "  result = result[core]\n"
     ]
    }
   ],
   "source": [
    "power, bin_edge, nbins = stats.binned_statistic(xx, yy,\n",
    "                                                bins=np.arange(0.05,5.,0.1), statistic=\"mean\")\n",
    "power_std, bin_edge, nbins = stats.binned_statistic(xx, yy,\n",
    "                                                bins=np.arange(0.05,5.,0.1), statistic=\"std\")\n",
    "\n",
    "freq = (bin_edge[1:]+bin_edge[:-1])/2\n"
   ]
  },
  {
   "cell_type": "code",
   "execution_count": null,
   "metadata": {},
   "outputs": [],
   "source": []
  },
  {
   "cell_type": "code",
   "execution_count": 9,
   "metadata": {},
   "outputs": [
    {
     "name": "stderr",
     "output_type": "stream",
     "text": [
      "/Local/rode/.conda/envs/py36/lib/python3.6/importlib/_bootstrap.py:219: RuntimeWarning: numpy.dtype size changed, may indicate binary incompatibility. Expected 96, got 88\n",
      "  return f(*args, **kwds)\n",
      "/Local/rode/.conda/envs/py36/lib/python3.6/site-packages/pandas/core/generic.py:1996: PerformanceWarning: \n",
      "your performance may suffer as PyTables will pickle object types that it cannot\n",
      "map directly to c-types [inferred_type->mixed,key->block1_values] [items->['stuck', 'exp']]\n",
      "\n",
      "  return pytables.to_hdf(path_or_buf, key, self, **kwargs)\n"
     ]
    }
   ],
   "source": [
    "res_seas.to_hdf('../c2_kappa_mean_rotation.h5', 'sea_urchins')\n",
    "np.savetxt(\"../sea_urchin_spectrum.csv\",  np.vstack([freq, power, power_std]).T)"
   ]
  },
  {
   "cell_type": "code",
   "execution_count": null,
   "metadata": {},
   "outputs": [],
   "source": []
  }
 ],
 "metadata": {
  "@webio": {
   "lastCommId": null,
   "lastKernelId": null
  },
  "kernelspec": {
   "display_name": "py36",
   "language": "python",
   "name": "py36"
  },
  "language_info": {
   "codemirror_mode": {
    "name": "ipython",
    "version": 3
   },
   "file_extension": ".py",
   "mimetype": "text/x-python",
   "name": "python",
   "nbconvert_exporter": "python",
   "pygments_lexer": "ipython3",
   "version": "3.6.7"
  }
 },
 "nbformat": 4,
 "nbformat_minor": 2
}
