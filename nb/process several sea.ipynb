{
 "cells": [
  {
   "cell_type": "code",
   "execution_count": null,
   "metadata": {},
   "outputs": [],
   "source": [
    "from glob import glob\n",
    "import numpy as np\n",
    "import pandas as pd\n",
    "from scipy import stats\n",
    "import os\n",
    "\n",
    "from analysis_scripts import second_harm_tools\n",
    "from analysis_scripts.analyzs_many import get_sea_urchin"
   ]
  },
  {
   "cell_type": "code",
   "execution_count": null,
   "metadata": {},
   "outputs": [],
   "source": [
    "sea_urchins = glob(os.path.join(\"..\", \"data\", \"sea_urchin_darkfield\",\"*.h5\"))\n"
   ]
  },
  {
   "cell_type": "code",
   "execution_count": null,
   "metadata": {},
   "outputs": [],
   "source": [
    "len(sea_urchins)"
   ]
  },
  {
   "cell_type": "code",
   "execution_count": null,
   "metadata": {
    "scrolled": false
   },
   "outputs": [],
   "source": [
    "defaults =  {\"t_range\": slice(None, None)}\n",
    "params = {}\n",
    "\n",
    "\n",
    "results = []\n",
    "spectrums = []\n",
    "for exp in sea_urchins:\n",
    "    param = params.get(exp, defaults)\n",
    "    if param.get(\"skip\"):\n",
    "        continue\n",
    "    a = get_sea_urchin(exp, rel_s=0.9, **param)\n",
    "    if a.last_valid_index() < 0.1:\n",
    "        continue\n",
    "    res_sea, spectrum = second_harm_tools.analyse_shape(a, NFFT=125, pca=True, smoothing=58)\n",
    "    res_sea.index.name = \"time\"\n",
    "    res_sea.reset_index(inplace=True)\n",
    "    res_sea[\"exp\"] = exp\n",
    "    results.append(res_sea)\n",
    "    spectrums.append(spectrum)\n",
    "    \n",
    "    \n",
    "res_seas = pd.concat(results)\n"
   ]
  },
  {
   "cell_type": "code",
   "execution_count": null,
   "metadata": {},
   "outputs": [],
   "source": [
    "5*1./res_seas.dropna().omega.mean()*500"
   ]
  },
  {
   "cell_type": "code",
   "execution_count": null,
   "metadata": {},
   "outputs": [],
   "source": [
    "res_seas[\"phi_vel_normed_s_c0\"] = res_seas.phi_vel_normed_s/(res_seas.C0**2)\n",
    "res_seas[\"c2_plus_cm\"] = 0.04*res_seas.C2_SIN + 0.36*res_seas.kappa_mean_s"
   ]
  },
  {
   "cell_type": "code",
   "execution_count": null,
   "metadata": {},
   "outputs": [],
   "source": [
    "res = []\n",
    "for spectrum in spectrums:\n",
    "    res.append((spectrum[::100,:,0].flatten(), np.sqrt(spectrum[::100,:,1].flatten())))\n",
    "xx = np.hstack(list(zip(*res))[0])\n",
    "yy = np.hstack(list(zip(*res))[1])\n",
    "    "
   ]
  },
  {
   "cell_type": "code",
   "execution_count": null,
   "metadata": {},
   "outputs": [],
   "source": [
    "power, bin_edge, nbins = stats.binned_statistic(xx, yy,\n",
    "                                                bins=np.arange(0.05,5.,0.1), statistic=\"mean\")\n",
    "power_std, bin_edge, nbins = stats.binned_statistic(xx, yy,\n",
    "                                                bins=np.arange(0.05,5.,0.1), statistic=\"std\")\n",
    "\n",
    "freq = (bin_edge[1:]+bin_edge[:-1])/2\n"
   ]
  },
  {
   "cell_type": "code",
   "execution_count": null,
   "metadata": {},
   "outputs": [],
   "source": []
  },
  {
   "cell_type": "code",
   "execution_count": null,
   "metadata": {},
   "outputs": [],
   "source": [
    "res_seas.to_hdf(os.path.join(\"..\", \"c2_kappa_mean_rotation.h5\"), 'sea_urchins')\n",
    "np.savetxt(os.path.join(\"..\", \"sea_urchin_spectrum.csv\"),  np.vstack([freq, power, power_std]).T)"
   ]
  },
  {
   "cell_type": "code",
   "execution_count": null,
   "metadata": {},
   "outputs": [],
   "source": []
  }
 ],
 "metadata": {
  "@webio": {
   "lastCommId": null,
   "lastKernelId": null
  },
  "kernelspec": {
   "display_name": "Python 3",
   "language": "python",
   "name": "python3"
  },
  "language_info": {
   "codemirror_mode": {
    "name": "ipython",
    "version": 3
   },
   "file_extension": ".py",
   "mimetype": "text/x-python",
   "name": "python",
   "nbconvert_exporter": "python",
   "pygments_lexer": "ipython3",
   "version": "3.7.4"
  }
 },
 "nbformat": 4,
 "nbformat_minor": 2
}
